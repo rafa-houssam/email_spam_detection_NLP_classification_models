{
  "cells": [
    {
      "cell_type": "markdown",
      "metadata": {
        "id": "view-in-github",
        "colab_type": "text"
      },
      "source": [
        "<a href=\"https://colab.research.google.com/github/rafa-houssam/email_spam_detection_NLP_classification_models/blob/main/jupiter_notebook.ipynb\" target=\"_parent\"><img src=\"https://colab.research.google.com/assets/colab-badge.svg\" alt=\"Open In Colab\"/></a>"
      ]
    },
    {
      "cell_type": "markdown",
      "source": [
        "# Importing necessary libraries"
      ],
      "metadata": {
        "id": "FEtQF86JMiGn"
      },
      "id": "FEtQF86JMiGn"
    },
    {
      "cell_type": "code",
      "source": [
        "import numpy as np\n",
        "import pandas as pd\n",
        "from sklearn.feature_extraction.text import TfidfVectorizer\n",
        "import tensorflow as tf\n",
        "from tensorflow.keras.models import Sequential\n",
        "from tensorflow.keras.layers import Dense, Dropout\n",
        "from sklearn.model_selection import train_test_split\n",
        "\n",
        "\n"
      ],
      "metadata": {
        "id": "nznzTfvPzAg4"
      },
      "id": "nznzTfvPzAg4",
      "execution_count": 11,
      "outputs": []
    },
    {
      "cell_type": "code",
      "source": [
        "df=pd.read_csv(\"spam_mail_classifier.csv\")\n",
        "# print(df)\n",
        "# df.head()\n",
        "df[\"label\"]=df[\"label\"].replace({\"spam\":1,\"ham\":0})\n",
        "# print(df)\n",
        "vectorizer=TfidfVectorizer(stop_words=\"english\",max_features=1000)\n",
        "X=vectorizer.fit_transform(df[\"email_text\"])\n",
        "y=df[\"label\"]\n",
        "# print(X)\n",
        "X_train,Y_train,X_test,Y_test=train_test_split(X,y,test_size=0.30,random_state=44)\n"
      ],
      "metadata": {
        "colab": {
          "base_uri": "https://localhost:8080/"
        },
        "id": "JBuYV-BBMpUE",
        "outputId": "71767c68-0c5c-45d5-fbec-272cc63bcf9a"
      },
      "id": "JBuYV-BBMpUE",
      "execution_count": 23,
      "outputs": [
        {
          "output_type": "stream",
          "name": "stdout",
          "text": [
            "357    1\n",
            "645    0\n",
            "271    1\n",
            "400    0\n",
            "342    0\n",
            "      ..\n",
            "571    1\n",
            "173    1\n",
            "753    1\n",
            "419    1\n",
            "788    0\n",
            "Name: label, Length: 700, dtype: int64\n"
          ]
        },
        {
          "output_type": "stream",
          "name": "stderr",
          "text": [
            "/tmp/ipython-input-2693342716.py:4: FutureWarning: Downcasting behavior in `replace` is deprecated and will be removed in a future version. To retain the old behavior, explicitly call `result.infer_objects(copy=False)`. To opt-in to the future behavior, set `pd.set_option('future.no_silent_downcasting', True)`\n",
            "  df[\"label\"]=df[\"label\"].replace({\"spam\":1,\"ham\":0})\n"
          ]
        }
      ]
    },
    {
      "cell_type": "markdown",
      "source": [],
      "metadata": {
        "id": "GFyP5WQrMffn"
      },
      "id": "GFyP5WQrMffn"
    }
  ],
  "metadata": {
    "kernelspec": {
      "display_name": "Python 3",
      "language": "python",
      "name": "python3"
    },
    "language_info": {
      "name": "python",
      "version": "3.12.2"
    },
    "colab": {
      "provenance": [],
      "include_colab_link": true
    }
  },
  "nbformat": 4,
  "nbformat_minor": 5
}